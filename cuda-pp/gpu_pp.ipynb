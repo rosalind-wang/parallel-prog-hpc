{
 "cells": [
  {
   "cell_type": "markdown",
   "metadata": {},
   "source": [
    "# Parallel programming on the GPU\n",
    "\n",
    "In this notebook, we'll look at some of the basic type of running accelerated programming on GPUs. We'll be using Google Colab and their GPU. \n",
    "\n",
    "Before we start, make sure you've chosen the GPU in Colab's runtime type. \n",
    "\n",
    "Let's first look at some information about the hardware: "
   ]
  },
  {
   "cell_type": "code",
   "execution_count": null,
   "metadata": {
    "colab": {
     "base_uri": "https://localhost:8080/"
    },
    "id": "9POlke-8942H",
    "outputId": "ed7be174-e4cb-4bc9-ee0a-41f71d6df591"
   },
   "outputs": [],
   "source": [
    "!nvidia-smi"
   ]
  },
  {
   "cell_type": "markdown",
   "metadata": {},
   "source": [
    "and information about the software: "
   ]
  },
  {
   "cell_type": "code",
   "execution_count": null,
   "metadata": {
    "colab": {
     "base_uri": "https://localhost:8080/"
    },
    "id": "Zg93Cbqy9ryS",
    "outputId": "9f017872-714f-478c-eb9e-051bd55dc247"
   },
   "outputs": [],
   "source": [
    "!nvcc --version"
   ]
  },
  {
   "cell_type": "markdown",
   "metadata": {},
   "source": [
    "Before we can run any script files, we need to connect to our Google Drive, where the files are located: "
   ]
  },
  {
   "cell_type": "code",
   "execution_count": null,
   "metadata": {
    "colab": {
     "base_uri": "https://localhost:8080/"
    },
    "id": "7rOhlk37SNwy",
    "outputId": "e52c6785-6359-4855-d891-17f4df32ef23"
   },
   "outputs": [],
   "source": [
    "from google.colab import drive\n",
    "drive.mount('/content/drive')"
   ]
  },
  {
   "cell_type": "markdown",
   "metadata": {},
   "source": [
    "## \"Hello World\" from the GPU\n",
    "\n",
    "Let's start with the simplest possible GPU script, we'll refactor the script file `01-hello-gpu.cu` to make it run on the GPU. "
   ]
  },
  {
   "cell_type": "code",
   "execution_count": null,
   "metadata": {
    "colab": {
     "base_uri": "https://localhost:8080/"
    },
    "id": "JRskeFo-UAcu",
    "outputId": "89c99a74-a373-4a1f-cc66-d60d07b7866e"
   },
   "outputs": [],
   "source": [
    "!nvcc -arch=sm_70 -o hello-gpu 01-hello-gpu.cu -run"
   ]
  },
  {
   "cell_type": "markdown",
   "metadata": {},
   "source": [
    "## Parallel kernels\n",
    "\n",
    "Running multiple kernels in parallel on the GPU requires specifying the number of threads to run the kernel on with the syntax `kernelName<<<NUMBER_OF_BLOCKS, NUMBER_OFTHREADS_PER_BLOCK>>>()`. \n",
    "\n",
    "We'll refractor the script `02-first-parallel.cu` to make it run in parallel. "
   ]
  },
  {
   "cell_type": "code",
   "execution_count": null,
   "metadata": {
    "colab": {
     "base_uri": "https://localhost:8080/"
    },
    "id": "skx_9h7YU2mb",
    "outputId": "1c38578c-50b6-4c5e-ce39-792f291e04fd"
   },
   "outputs": [],
   "source": [
    "!nvcc -arch=sm_70 -o first-parallel 02-first-parallel.cu -run"
   ]
  },
  {
   "cell_type": "markdown",
   "metadata": {},
   "source": [
    "CUDA can access the id of each thread and each block. We'll refractor the script `02-thread-and-block-idx.cu` to show how that works. "
   ]
  },
  {
   "cell_type": "code",
   "execution_count": null,
   "metadata": {},
   "outputs": [],
   "source": [
    "!nvcc -arch=sm_70 -o thread-and-block-idx 02-thread-and-block-idx.cu -run"
   ]
  },
  {
   "cell_type": "markdown",
   "metadata": {},
   "source": [
    "## Accelerating FOR loops\n",
    "\n",
    "Instead of run `for` loops in sequence, we can get the GPU to run each iteration in the `for` loop in parallel in its own thread. \n",
    "\n",
    "We'll refractor the code in `03-multi-threads-loop.cu` to see how to do that. "
   ]
  },
  {
   "cell_type": "code",
   "execution_count": null,
   "metadata": {
    "colab": {
     "base_uri": "https://localhost:8080/"
    },
    "id": "D5_ipG5NVpC_",
    "outputId": "0f94e526-eb51-447f-beff-479619fc20a9"
   },
   "outputs": [],
   "source": [
    "!nvcc -arch=sm_70 -o multi-threads-loop 03-multi-threads-loop.cu -run"
   ]
  },
  {
   "cell_type": "markdown",
   "metadata": {},
   "source": [
    "## Grid size mismatch\n",
    "\n",
    "It is common that the size of the grid is larger than the size of the data set. In these cases we need to check thread number is smaller than the grid size. \n",
    "\n",
    "In the script `04-mismatched-config-loop.cu`, we'll look at how this is solved. "
   ]
  },
  {
   "cell_type": "code",
   "execution_count": null,
   "metadata": {},
   "outputs": [],
   "source": [
    "!nvcc -arch=sm_70 -o mismatched-config-loop.cu 04-mismatched-config-loop.cu -run"
   ]
  },
  {
   "cell_type": "markdown",
   "metadata": {},
   "source": [
    "## Data sets larger than the grid\n",
    "\n",
    "Sometimes the size of the grid can be smaller than the size of a data set. In these cases, we need to get the kernel to loop through the operation in each grid stride. \n",
    "\n",
    "In the script `05-grid-stride-double.cu`, we'll look at how this is done. "
   ]
  },
  {
   "cell_type": "code",
   "execution_count": null,
   "metadata": {
    "colab": {
     "base_uri": "https://localhost:8080/"
    },
    "id": "J_BHGRISXXGM",
    "outputId": "cb846bc9-ff05-4ec0-8b71-61accfea68a9"
   },
   "outputs": [],
   "source": [
    "!nvcc -arch=sm_70 -o grid-stride-double 05-grid-stride-double.cu -run"
   ]
  }
 ],
 "metadata": {
  "accelerator": "GPU",
  "colab": {
   "provenance": []
  },
  "gpuClass": "standard",
  "kernelspec": {
   "display_name": "Python 3",
   "language": "python",
   "name": "python3"
  },
  "language_info": {
   "codemirror_mode": {
    "name": "ipython",
    "version": 3
   },
   "file_extension": ".py",
   "mimetype": "text/x-python",
   "name": "python",
   "nbconvert_exporter": "python",
   "pygments_lexer": "ipython3",
   "version": "3.6.8"
  },
  "toc": {
   "base_numbering": 1,
   "nav_menu": {},
   "number_sections": true,
   "sideBar": true,
   "skip_h1_title": false,
   "title_cell": "Table of Contents",
   "title_sidebar": "Contents",
   "toc_cell": false,
   "toc_position": {},
   "toc_section_display": true,
   "toc_window_display": false
  }
 },
 "nbformat": 4,
 "nbformat_minor": 1
}
